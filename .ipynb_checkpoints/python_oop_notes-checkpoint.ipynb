{
 "cells": [
  {
   "cell_type": "markdown",
   "metadata": {},
   "source": [
    "# Object Oriented Programming in Python\n",
    "\n",
    "## Overview\n",
    "\n",
    "* **objects**: data structures containing data\n",
    "* **fields**: attributes\n",
    "* **code**: procedures/methods\n",
    "* **class**: \"blueprint\" for some object\n",
    "\n",
    "### More formal definitions\n",
    "\n",
    "**Class**\n",
    "A template describing *attributes* and *methods* to be included in *objects* that are *instantiated* from the class.\n",
    "\n",
    "**Object**\n",
    "A concrete realization of a class, potentially containing a unique *state* compared to other objects of the same class.\n",
    "\n",
    "**Instance**\n",
    "\"Object *X* is an instance of class *Y*\"\n",
    "\n",
    "**Instantiation**\n",
    "The act of creating an instance (individual object) from a class definition.\n",
    "\n",
    "**Constructor**\n",
    "What we call to instantiate an object.\n",
    "\n",
    "**self**\n",
    "Name of a variable used inside class definitions to permit self-reference by an object. Self is passed by default as the first parameter of an object's methods.\n",
    "\n",
    "**Attribute**\n",
    "A piece of state defined by class, stored as a variable associated with instances of that class. Values of attributes may differ between objects of the same class.\n",
    "\n",
    "**State**\n",
    "In OOP, state is the collection of all the data represented by the attributes of a given object.\n",
    "\n",
    "**Method**\n",
    "A block of code defined within a class that typically acts on the attributes of that class. Inside of a class definition, methods are defined in a similar manner as functions. Think of methods as class-specific functions.\n",
    "Methods are called using <object_name>.<method_name>()."
   ]
  },
  {
   "cell_type": "markdown",
   "metadata": {},
   "source": [
    "### Classes\n",
    "\n",
    "Defining a class is similar to defining a function, with some key differences.\n",
    "The naming convention is to use capitalized words without any separation in class names (e.g. OurClass).\n",
    "\n",
    "**EX:**\n",
    "\n",
    "    class OurClass:\n",
    "        # attributes and methods are defined here\n",
    "    "
   ]
  },
  {
   "cell_type": "markdown",
   "metadata": {},
   "source": [
    "### Instantiation\n",
    "\n",
    "Create an instance of the class by calling the constructor.\n",
    "\n",
    "**EX:**\n",
    "\n",
    "    our_object = Our_Class()"
   ]
  },
  {
   "cell_type": "markdown",
   "metadata": {},
   "source": [
    "# Initialization\n",
    "\n",
    "Almost every class will have an \\_\\_init\\_\\_() method."
   ]
  },
  {
   "cell_type": "code",
   "execution_count": 47,
   "metadata": {},
   "outputs": [],
   "source": [
    "# EXAMPLE\n",
    "\n",
    "class GalvanizeCourse:\n",
    "    \n",
    "    def __init__(self):\n",
    "        self.name = 'Intro to Python'\n",
    "        \n"
   ]
  },
  {
   "cell_type": "code",
   "execution_count": 48,
   "metadata": {},
   "outputs": [],
   "source": [
    "our_course = GalvanizeCourse()\n"
   ]
  },
  {
   "cell_type": "code",
   "execution_count": 49,
   "metadata": {},
   "outputs": [
    {
     "name": "stdout",
     "output_type": "stream",
     "text": [
      "Intro to Python\n"
     ]
    }
   ],
   "source": [
    "print(our_course.name)"
   ]
  },
  {
   "cell_type": "markdown",
   "metadata": {},
   "source": [
    "### More on Initialization\n",
    "\n",
    "* Syntax for defining the \\_\\_init\\_\\_() method is identical to syntax used for defining a function, except that the definition occures *inside* of a class definition (true for all methods).\n",
    "\n",
    "* The two underscores before and after 'init\" are required."
   ]
  },
  {
   "cell_type": "markdown",
   "metadata": {},
   "source": [
    "### The self parameter\n",
    "\n",
    "* The **self** parameter is what you use inside an object to access the attributes or methods of that object (using *dot notation*)."
   ]
  },
  {
   "cell_type": "markdown",
   "metadata": {},
   "source": [
    "### Passing argument to \\_\\_init\\_\\_()\n",
    "\n",
    "* In the below example, a second parameter has been specified in the __init__() method definition and an argument (besides *self* which is automatic) is required to create an instance using a constructor."
   ]
  },
  {
   "cell_type": "code",
   "execution_count": 5,
   "metadata": {},
   "outputs": [],
   "source": [
    "class GalvanizeCourse:\n",
    "    \n",
    "    def __init__(self, name):\n",
    "        self.name = name"
   ]
  },
  {
   "cell_type": "code",
   "execution_count": 6,
   "metadata": {},
   "outputs": [],
   "source": [
    "our_python_course = GalvanizeCourse('Intro to Python')"
   ]
  },
  {
   "cell_type": "code",
   "execution_count": 7,
   "metadata": {},
   "outputs": [],
   "source": [
    "our_ds_course = GalvanizeCourse('Data Science Immersive')"
   ]
  },
  {
   "cell_type": "code",
   "execution_count": 8,
   "metadata": {},
   "outputs": [
    {
     "name": "stdout",
     "output_type": "stream",
     "text": [
      "Intro to Python\n"
     ]
    }
   ],
   "source": [
    "print(our_python_course.name)\n"
   ]
  },
  {
   "cell_type": "code",
   "execution_count": 9,
   "metadata": {},
   "outputs": [
    {
     "name": "stdout",
     "output_type": "stream",
     "text": [
      "Data Science Immersive\n"
     ]
    }
   ],
   "source": [
    "print(our_ds_course.name)"
   ]
  },
  {
   "cell_type": "markdown",
   "metadata": {},
   "source": [
    "### Multiple arguments and default parameter values\n",
    "\n",
    "* In the example below multiple parameters are in the definition of the \\_\\_init\\_\\_() method.\n",
    "* The size parameter is optional and is set to zero by default. This allows the constructor to be called with either two or three arguments.\n"
   ]
  },
  {
   "cell_type": "code",
   "execution_count": 11,
   "metadata": {},
   "outputs": [],
   "source": [
    "class GalvanizeCourse:\n",
    "    \n",
    "    def __init__(self, name, location, size=0):\n",
    "        self.name = name\n",
    "        self.location = location\n",
    "        self.size = size"
   ]
  },
  {
   "cell_type": "code",
   "execution_count": 12,
   "metadata": {},
   "outputs": [],
   "source": [
    "our_python_course = GalvanizeCourse('Intro to Python', 'Austin')"
   ]
  },
  {
   "cell_type": "code",
   "execution_count": 17,
   "metadata": {},
   "outputs": [],
   "source": [
    "our_ds_course = GalvanizeCourse(\n",
    "    'Data Science Immersive','Seattle', 25)\n"
   ]
  },
  {
   "cell_type": "code",
   "execution_count": 21,
   "metadata": {},
   "outputs": [
    {
     "data": {
      "text/plain": [
       "('Intro to Python', 'Austin', 0)"
      ]
     },
     "execution_count": 21,
     "metadata": {},
     "output_type": "execute_result"
    }
   ],
   "source": [
    "our_python_course.name, our_python_course.location, our_python_course.size\n"
   ]
  },
  {
   "cell_type": "code",
   "execution_count": 22,
   "metadata": {},
   "outputs": [
    {
     "data": {
      "text/plain": [
       "('Data Science Immersive', 'Seattle', 25)"
      ]
     },
     "execution_count": 22,
     "metadata": {},
     "output_type": "execute_result"
    }
   ],
   "source": [
    "our_ds_course.name, our_ds_course.location, our_ds_course.size"
   ]
  },
  {
   "cell_type": "markdown",
   "metadata": {},
   "source": [
    "#### Challenge Exercises:"
   ]
  },
  {
   "cell_type": "code",
   "execution_count": 25,
   "metadata": {},
   "outputs": [],
   "source": [
    "class Person:\n",
    "    \n",
    "    def __init__(self):\n",
    "        self.is_alive = True"
   ]
  },
  {
   "cell_type": "code",
   "execution_count": 26,
   "metadata": {},
   "outputs": [],
   "source": [
    "p = Person()"
   ]
  },
  {
   "cell_type": "code",
   "execution_count": 27,
   "metadata": {},
   "outputs": [
    {
     "data": {
      "text/plain": [
       "True"
      ]
     },
     "execution_count": 27,
     "metadata": {},
     "output_type": "execute_result"
    }
   ],
   "source": [
    "p.is_alive"
   ]
  },
  {
   "cell_type": "code",
   "execution_count": 28,
   "metadata": {},
   "outputs": [],
   "source": [
    "class Person:\n",
    "    \n",
    "    def __init__(self, name):\n",
    "        self.is_alive = True\n",
    "        self.name = name"
   ]
  },
  {
   "cell_type": "code",
   "execution_count": 29,
   "metadata": {},
   "outputs": [],
   "source": [
    "p = Person('Jim')"
   ]
  },
  {
   "cell_type": "code",
   "execution_count": 30,
   "metadata": {},
   "outputs": [
    {
     "data": {
      "text/plain": [
       "True"
      ]
     },
     "execution_count": 30,
     "metadata": {},
     "output_type": "execute_result"
    }
   ],
   "source": [
    "p.is_alive\n"
   ]
  },
  {
   "cell_type": "code",
   "execution_count": 31,
   "metadata": {},
   "outputs": [
    {
     "data": {
      "text/plain": [
       "'Jim'"
      ]
     },
     "execution_count": 31,
     "metadata": {},
     "output_type": "execute_result"
    }
   ],
   "source": [
    "p.name"
   ]
  },
  {
   "cell_type": "code",
   "execution_count": null,
   "metadata": {},
   "outputs": [],
   "source": [
    "class Person:\n",
    "    \n",
    "    def __init__(self, name, age=0):\n",
    "        self.is_alive = True\n",
    "        self.name = name\n",
    "        self.age = age"
   ]
  },
  {
   "cell_type": "code",
   "execution_count": 34,
   "metadata": {},
   "outputs": [],
   "source": [
    "p = Person('Bill', 58)"
   ]
  },
  {
   "cell_type": "code",
   "execution_count": 35,
   "metadata": {},
   "outputs": [
    {
     "data": {
      "text/plain": [
       "58"
      ]
     },
     "execution_count": 35,
     "metadata": {},
     "output_type": "execute_result"
    }
   ],
   "source": [
    "p.age\n"
   ]
  },
  {
   "cell_type": "code",
   "execution_count": 36,
   "metadata": {},
   "outputs": [
    {
     "data": {
      "text/plain": [
       "'Bill'"
      ]
     },
     "execution_count": 36,
     "metadata": {},
     "output_type": "execute_result"
    }
   ],
   "source": [
    "p.name"
   ]
  },
  {
   "cell_type": "code",
   "execution_count": 37,
   "metadata": {},
   "outputs": [
    {
     "data": {
      "text/plain": [
       "True"
      ]
     },
     "execution_count": 37,
     "metadata": {},
     "output_type": "execute_result"
    }
   ],
   "source": [
    "p.is_alive"
   ]
  },
  {
   "cell_type": "markdown",
   "metadata": {},
   "source": [
    "### Methods\n",
    "\n",
    "* Defining other methods is accomplished the same was as the \\_\\_init\\_\\_() method was defined.\n",
    "\n",
    "* The key thing that makes the questions_asked method below work is that the empty list was set up in the initialization definition.\n"
   ]
  },
  {
   "cell_type": "code",
   "execution_count": 38,
   "metadata": {},
   "outputs": [],
   "source": [
    "class GalvanizeCourse:\n",
    "   ...:     \n",
    "   ...:     def __init__(self, name, location, size=0):\n",
    "   ...:         self.name = name\n",
    "   ...:         self.location = location\n",
    "   ...:         self.size = size\n",
    "   ...:         self.questions_asked = []\n",
    "   ...:\n",
    "   ...:     def add_question(self, question):\n",
    "   ...:         self.questions_asked.append(question)"
   ]
  },
  {
   "cell_type": "code",
   "execution_count": 39,
   "metadata": {},
   "outputs": [],
   "source": [
    "our_course = GalvanizeCourse('Intro Python', 'Boulder', 15)\n"
   ]
  },
  {
   "cell_type": "code",
   "execution_count": 40,
   "metadata": {},
   "outputs": [
    {
     "data": {
      "text/plain": [
       "('Intro Python', 'Boulder', 15)"
      ]
     },
     "execution_count": 40,
     "metadata": {},
     "output_type": "execute_result"
    }
   ],
   "source": [
    "our_course.name, our_course.location, our_course.size"
   ]
  },
  {
   "cell_type": "code",
   "execution_count": 41,
   "metadata": {},
   "outputs": [
    {
     "data": {
      "text/plain": [
       "[]"
      ]
     },
     "execution_count": 41,
     "metadata": {},
     "output_type": "execute_result"
    }
   ],
   "source": [
    "our_course.questions_asked"
   ]
  },
  {
   "cell_type": "code",
   "execution_count": 42,
   "metadata": {},
   "outputs": [],
   "source": [
    "our_course.add_question('Why Python?')"
   ]
  },
  {
   "cell_type": "code",
   "execution_count": 43,
   "metadata": {},
   "outputs": [
    {
     "data": {
      "text/plain": [
       "['Why Python?']"
      ]
     },
     "execution_count": 43,
     "metadata": {},
     "output_type": "execute_result"
    }
   ],
   "source": [
    "our_course.questions_asked"
   ]
  },
  {
   "cell_type": "code",
   "execution_count": 44,
   "metadata": {},
   "outputs": [],
   "source": [
    "our_course.add_question('Why not R?')"
   ]
  },
  {
   "cell_type": "code",
   "execution_count": 45,
   "metadata": {},
   "outputs": [
    {
     "data": {
      "text/plain": [
       "['Why Python?', 'Why not R?']"
      ]
     },
     "execution_count": 45,
     "metadata": {},
     "output_type": "execute_result"
    }
   ],
   "source": [
    "our_course.questions_asked"
   ]
  },
  {
   "cell_type": "markdown",
   "metadata": {},
   "source": [
    "### Initialize all attributes in \\_\\_init\\_\\_()\n",
    "\n",
    "* While it is possible to create attributes in methods other than \\_\\_init\\_\\_(), it is not good practice because of scoping issues.\n",
    "\n",
    "* Put all attributes that will ever be accessed in the \\_\\_init\\_\\_() method and if they are optional assign them default values, or a default value of **None**."
   ]
  },
  {
   "cell_type": "markdown",
   "metadata": {},
   "source": [
    "### Challenge exercises:"
   ]
  },
  {
   "cell_type": "code",
   "execution_count": 87,
   "metadata": {},
   "outputs": [],
   "source": [
    "class Person:\n",
    "\n",
    "    def __init__(self, name, age=0):\n",
    "        self.name = name\n",
    "        self.age = age\n",
    "        if (self.age >= 13) and (self.age <= 19):\n",
    "            self.is_teenager = True\n",
    "        else:\n",
    "            self.is_teenager = False\n",
    "    \n",
    "    def is_teen(self):\n",
    "        return self.is_teenager"
   ]
  },
  {
   "cell_type": "code",
   "execution_count": 88,
   "metadata": {},
   "outputs": [],
   "source": [
    "p = Person(\"Bob\", 14)"
   ]
  },
  {
   "cell_type": "code",
   "execution_count": 89,
   "metadata": {},
   "outputs": [
    {
     "data": {
      "text/plain": [
       "True"
      ]
     },
     "execution_count": 89,
     "metadata": {},
     "output_type": "execute_result"
    }
   ],
   "source": [
    "p.is_teen()\n"
   ]
  },
  {
   "cell_type": "code",
   "execution_count": 95,
   "metadata": {},
   "outputs": [],
   "source": [
    "class Person:\n",
    "\n",
    "    def __init__(self, name, age=0):\n",
    "        self.name = name\n",
    "        self.age = age\n",
    "\n",
    "        if age > 17:\n",
    "            self.adult = True\n",
    "        else:\n",
    "            self.adult = False\n",
    "\n",
    "    def happy_birthday(self):\n",
    "        self.age += 1\n",
    "        if self.age > 17:\n",
    "            self.adult = True\n"
   ]
  },
  {
   "cell_type": "code",
   "execution_count": 96,
   "metadata": {},
   "outputs": [],
   "source": [
    "p = Person(\"Frank\", 17)"
   ]
  },
  {
   "cell_type": "code",
   "execution_count": 97,
   "metadata": {},
   "outputs": [
    {
     "data": {
      "text/plain": [
       "False"
      ]
     },
     "execution_count": 97,
     "metadata": {},
     "output_type": "execute_result"
    }
   ],
   "source": [
    "p.adult"
   ]
  },
  {
   "cell_type": "code",
   "execution_count": 98,
   "metadata": {},
   "outputs": [],
   "source": [
    "p.happy_birthday()"
   ]
  },
  {
   "cell_type": "code",
   "execution_count": 99,
   "metadata": {},
   "outputs": [
    {
     "data": {
      "text/plain": [
       "True"
      ]
     },
     "execution_count": 99,
     "metadata": {},
     "output_type": "execute_result"
    }
   ],
   "source": [
    "p.adult\n"
   ]
  },
  {
   "cell_type": "code",
   "execution_count": 103,
   "metadata": {},
   "outputs": [],
   "source": [
    "class Person:\n",
    "\n",
    "    def __init__(self, name, age=0):\n",
    "        self.name = name\n",
    "        self.age = age\n",
    "        \n",
    "        if self.age >= 18:\n",
    "            self.voting_age = True\n",
    "        else:\n",
    "            self.voting_age = False\n",
    "\n",
    "    def can_vote(self):\n",
    "        return self.voting_age\n",
    "\n",
    "    def happy_birthday(self):\n",
    "        self.age += 1\n",
    "\n",
    "        if self.age >= 18:\n",
    "            self.voting_age = True"
   ]
  },
  {
   "cell_type": "code",
   "execution_count": 104,
   "metadata": {},
   "outputs": [],
   "source": [
    "p = Person(\"Adam\", 17)"
   ]
  },
  {
   "cell_type": "code",
   "execution_count": 105,
   "metadata": {},
   "outputs": [
    {
     "data": {
      "text/plain": [
       "False"
      ]
     },
     "execution_count": 105,
     "metadata": {},
     "output_type": "execute_result"
    }
   ],
   "source": [
    "p.can_vote()"
   ]
  },
  {
   "cell_type": "code",
   "execution_count": 106,
   "metadata": {},
   "outputs": [],
   "source": [
    "p.happy_birthday()"
   ]
  },
  {
   "cell_type": "code",
   "execution_count": 107,
   "metadata": {},
   "outputs": [
    {
     "data": {
      "text/plain": [
       "True"
      ]
     },
     "execution_count": 107,
     "metadata": {},
     "output_type": "execute_result"
    }
   ],
   "source": [
    "p.can_vote()"
   ]
  },
  {
   "cell_type": "markdown",
   "metadata": {},
   "source": [
    "### Magic Methods\n",
    "\n",
    "* Magic methods always begin and end with a double underscore.\n",
    "* Magic methods allow classes to use Python's built-in functionality.\n",
    "\n",
    "**EX:(truncated)**\n",
    "\n",
    "    def __str__(self):\n",
    "        our_course_string = '{}, location: {}'\n",
    "        return our_course_string.format(self.name, self.location)\n",
    "    \n",
    "    \n",
    "    print(our_course)\n",
    "\n",
    ">Intro to Python, location: Platte\n",
    "\n",
    "\n",
    "* the \\_\\_eq\\_\\_() magic method allows comparison of to objects using an expression such as **A == B**.\n",
    "\n",
    "*See below for example.\n",
    "\n",
    "\n",
    "\n"
   ]
  },
  {
   "cell_type": "code",
   "execution_count": 109,
   "metadata": {},
   "outputs": [],
   "source": [
    "class GalvanizeCourse():\n",
    "    def __init__(self, name, location, size=0):\n",
    "        self.name = name\n",
    "        self.location = location\n",
    "        self.size = size\n",
    "        self.questions_asked = []\n",
    "        if self.size >= 20:\n",
    "            self.at_capacity = True\n",
    "        else:\n",
    "            self.at_capacity = False\n",
    "\n",
    "    def __len__(self):\n",
    "        return len(self.questions_asked)\n",
    "\n",
    "    def __str__(self):\n",
    "        our_course_string = '{}, location: {}'\n",
    "        return our_course_string.format(self.name, self.location)\n",
    "\n",
    "    def __eq__(self, other):\n",
    "        return self.name == other.name and self.location == other.location\n",
    "\n",
    "    def add_question_asked(self, question):\n",
    "        self.questions_asked.append(question)\n",
    "\n",
    "    def add_students(self, num):\n",
    "        self.size += num\n",
    "\n",
    "        if self.size >= 20:\n",
    "            print('Capacity Reached!!')\n",
    "            self.at_capacity = True\n",
    "        else:\n",
    "            self.at_capacity = False\n",
    "\n",
    "    def check_if_at_capacity(self):\n",
    "        return self.at_capacity"
   ]
  },
  {
   "cell_type": "code",
   "execution_count": null,
   "metadata": {},
   "outputs": [],
   "source": [
    " "
   ]
  },
  {
   "cell_type": "code",
   "execution_count": 5,
   "metadata": {},
   "outputs": [],
   "source": [
    "class LinearPolynomial():\n",
    "    def __init__(self, m, b):\n",
    "        self.m = m\n",
    "        self.b = b\n",
    "\n",
    "    def __str__(self):\n",
    "        lpstring = '{}x + {}'\n",
    "        return lpstring.format(self.m, self.b)\n",
    "    \n",
    "    def __repr__(self):\n",
    "        return f'LinearPolynomial({self.m}, {self.b})'\n",
    "        \n",
    "\n",
    "    def __add__(self, other):\n",
    "        \"\"\"This function adds the other instance of LinearPolynomial\n",
    "        to the instance referenced by self.\n",
    "\n",
    "        Returns\n",
    "        -------\n",
    "        The sum of this instance of LinearPolynomial with another\n",
    "        instance of LinearPolynomial. This sum will not change either\n",
    "        of the instances reference by self or other. It returns the\n",
    "        sum as a new instance of LinearPolynomial, instantiated with\n",
    "        the newly calculated sum.\n",
    "        \"\"\"\n",
    "        new_m = self.m + other.m\n",
    "        new_b = self.b + other.b\n",
    "        # print(new_m)                         # this is where I am stuck. I don't know how to create another\n",
    "        # print(new_b)                         # instance with these variable values.\n",
    "        return LinearPolynomial(new_m, new_b)\n",
    "        \n",
    "        \n",
    "            \n",
    "       "
   ]
  },
  {
   "cell_type": "code",
   "execution_count": 6,
   "metadata": {},
   "outputs": [],
   "source": [
    "p = LinearPolynomial(8, 9)"
   ]
  },
  {
   "cell_type": "code",
   "execution_count": 7,
   "metadata": {},
   "outputs": [
    {
     "name": "stdout",
     "output_type": "stream",
     "text": [
      "8x + 9\n"
     ]
    }
   ],
   "source": [
    "print(p)"
   ]
  },
  {
   "cell_type": "code",
   "execution_count": 8,
   "metadata": {},
   "outputs": [],
   "source": [
    "p2 = LinearPolynomial(6,3)"
   ]
  },
  {
   "cell_type": "code",
   "execution_count": 9,
   "metadata": {},
   "outputs": [
    {
     "name": "stdout",
     "output_type": "stream",
     "text": [
      "6x + 3\n"
     ]
    }
   ],
   "source": [
    "print(p2)\n"
   ]
  },
  {
   "cell_type": "code",
   "execution_count": 10,
   "metadata": {},
   "outputs": [
    {
     "data": {
      "text/plain": [
       "LinearPolynomial(14, 12)"
      ]
     },
     "execution_count": 10,
     "metadata": {},
     "output_type": "execute_result"
    }
   ],
   "source": [
    "p + p2\n"
   ]
  },
  {
   "cell_type": "markdown",
   "metadata": {},
   "source": [
    "#### Checkpoint Challenge:"
   ]
  },
  {
   "cell_type": "code",
   "execution_count": 195,
   "metadata": {},
   "outputs": [],
   "source": [
    "class NumberFun():\n",
    "    def __init__(self, number):\n",
    "        self.number = number\n",
    "\n",
    "        \n",
    "    def factorial(self):\n",
    "        self.result = 1\n",
    "        for i in range (self.number, 0, -1):\n",
    "            self.result = self.result * i\n",
    "        return self.result    \n",
    "\n",
    "    def divisors(self):\n",
    "        test_group = range(1, self.number+1, 1)\n",
    "        result = []\n",
    "        for num in test_group:\n",
    "            self.result = [num for num in test_group if self.number % num == 0]\n",
    "        return self.result \n",
    "                "
   ]
  },
  {
   "cell_type": "code",
   "execution_count": 199,
   "metadata": {},
   "outputs": [],
   "source": [
    "u = NumberFun(8)"
   ]
  },
  {
   "cell_type": "code",
   "execution_count": 200,
   "metadata": {},
   "outputs": [
    {
     "data": {
      "text/plain": [
       "[1, 2, 4, 8]"
      ]
     },
     "execution_count": 200,
     "metadata": {},
     "output_type": "execute_result"
    }
   ],
   "source": [
    "u.divisors()\n"
   ]
  },
  {
   "cell_type": "code",
   "execution_count": 201,
   "metadata": {},
   "outputs": [
    {
     "data": {
      "text/plain": [
       "40320"
      ]
     },
     "execution_count": 201,
     "metadata": {},
     "output_type": "execute_result"
    }
   ],
   "source": [
    "u.factorial()\n"
   ]
  },
  {
   "cell_type": "code",
   "execution_count": null,
   "metadata": {},
   "outputs": [],
   "source": []
  },
  {
   "cell_type": "code",
   "execution_count": null,
   "metadata": {},
   "outputs": [],
   "source": []
  }
 ],
 "metadata": {
  "kernelspec": {
   "display_name": "Python 3",
   "language": "python",
   "name": "python3"
  },
  "language_info": {
   "codemirror_mode": {
    "name": "ipython",
    "version": 3
   },
   "file_extension": ".py",
   "mimetype": "text/x-python",
   "name": "python",
   "nbconvert_exporter": "python",
   "pygments_lexer": "ipython3",
   "version": "3.7.1"
  }
 },
 "nbformat": 4,
 "nbformat_minor": 2
}
