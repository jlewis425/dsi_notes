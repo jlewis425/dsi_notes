{
 "cells": [
  {
   "cell_type": "markdown",
   "metadata": {},
   "source": [
    "# Linux Command Line Notes"
   ]
  },
  {
   "cell_type": "markdown",
   "metadata": {},
   "source": [
    "## Special directories\n",
    "\n",
    " * `/` root, the top-level directory\n",
    " * `~` your home directory\n",
    " * `.` the current directory\n",
    " * `..` the parent directory"
   ]
  },
  {
   "cell_type": "markdown",
   "metadata": {},
   "source": [
    "## Basic Navigation\n",
    "\n",
    "`pwd`          print working directory\n",
    "\n",
    "`man`          consult manual on a command\n",
    "\n",
    "        man <command>\n",
    "\n",
    "`cd`           change directory\n",
    "\n",
    "        cd <target directory path>\n",
    "\n",
    "`cd ..`        move up one directory level\n",
    "\n",
    "`cd`           return to home directory\n",
    "\n",
    "\n",
    "`clear`        clear command window\n",
    "\n",
    "`ls`           list directory contents\n",
    "\n",
    "   `ls -a`        shows hidden files/directories\n",
    "\n",
    "   `ls -l`        shows file details and permissions\n",
    "\n",
    "   "
   ]
  },
  {
   "cell_type": "markdown",
   "metadata": {},
   "source": [
    "`ls- la`       shows details and permissions of all files\n",
    "\n",
    "##### Example of details and permissions:\n",
    "\n",
    "    drwxr-xr-x   7 jdoe  staff     238 Sep 11 21:21 .\n",
    "\n",
    "    drwxr-xr-x  54 jdoe  staff    1836 Sep 11 19:07 ..\n",
    "\n",
    "    -rw-r--r--   1 jdoe  staff    4025 Sep 11 21:21 unix.md\n",
    "\n",
    "    -rw-r--r--@  1 jdoe  staff  128995 Sep 11 21:05 unix.pdf"
   ]
  },
  {
   "cell_type": "markdown",
   "metadata": {},
   "source": [
    "## Permission Control\n",
    "\n",
    "Change permissions using `chmod`. \n",
    "\n",
    "The `chmod` command requires setting permissions for user, group, and other (assume everybody). Permissions are set via a three digit code (user/group/other) based on the following codes:\n",
    "\n",
    "**Permission Codes:**\n",
    "\n",
    "Read = 4\n",
    "\n",
    "Write = 2\n",
    "\n",
    "Execute = 1\n",
    "\n",
    "The codes are additive, so full Read/Write/Execute permission is 7 (4+2+1).\n",
    "\n",
    "#### Example:\n",
    "\n",
    "    chmod 744 <filename>"
   ]
  },
  {
   "cell_type": "markdown",
   "metadata": {},
   "source": [
    "## Directory & File Management\n",
    "\n",
    "\n",
    "`mkdir`        make directory\n",
    "\n",
    "        mkdir <new directory name>\n",
    "        \n",
    "`touch`        create a new empty file, or update a timestamp\n",
    "\n",
    "        touch <newfilename.txt>\n",
    "\n",
    "`rm`           remove (file)\n",
    "\n",
    "        rm <filename.txt>\n",
    "        \n",
    "`rmdir`        remove directory\n",
    "\n",
    "        rmdir <directory name>\n",
    "        \n",
    "`rmdir -R`     remove directory - Recursive, removes all files in a directory **use carefully**\n"
   ]
  },
  {
   "cell_type": "markdown",
   "metadata": {},
   "source": [
    "## Redirection and Pipes\n",
    "\n",
    "Most commands read from STDIN (\"standard input\") and write to STDOUT and STDERR.\n",
    "\n",
    " * Redirect a file to STDIN with `<`\n",
    " * Redirect STDOUT to a file with `>`\n",
    " * Redirect STDERR to a file with `2>`\n",
    " * Append STDOUT to a file with `>>`\n",
    " * Connect the STDOUT of one command with the STDIN of another with `|`\n",
    "\n",
    "`grep export < .bash_profile | sort > temp`\n"
   ]
  },
  {
   "cell_type": "markdown",
   "metadata": {},
   "source": [
    "## Inspecting Files from Shell\n",
    "\n",
    "`cat`            output file(s) to STDOUT\n",
    "\n",
    "`less`           page through files\n",
    "\n",
    "`head` & `tail`  look at start and end of file\n",
    "\n",
    "`diff`           compare files"
   ]
  },
  {
   "cell_type": "markdown",
   "metadata": {},
   "source": [
    "## Common Filters\n",
    "\n",
    "These can be passed a file, or read from STDIN\n",
    "\n",
    " `wc`               count lines/words/characters\n",
    " \n",
    " `grep` or `egrep`  find lines that contain strings\n",
    " \n",
    " `sort`\n",
    " \n",
    " `uniq`             combine consecutive identical lines; use `-c` to count\n",
    " \n",
    " `tr`               transpose characters\n",
    " \n",
    " `cut`              select specific columns of csv or tsv\n",
    " \n",
    " `paste`            like SQL join; not that common"
   ]
  },
  {
   "cell_type": "code",
   "execution_count": null,
   "metadata": {},
   "outputs": [],
   "source": []
  },
  {
   "cell_type": "code",
   "execution_count": null,
   "metadata": {},
   "outputs": [],
   "source": []
  },
  {
   "cell_type": "code",
   "execution_count": null,
   "metadata": {},
   "outputs": [],
   "source": []
  },
  {
   "cell_type": "code",
   "execution_count": null,
   "metadata": {},
   "outputs": [],
   "source": []
  }
 ],
 "metadata": {
  "kernelspec": {
   "display_name": "Python 3",
   "language": "python",
   "name": "python3"
  },
  "language_info": {
   "codemirror_mode": {
    "name": "ipython",
    "version": 3
   },
   "file_extension": ".py",
   "mimetype": "text/x-python",
   "name": "python",
   "nbconvert_exporter": "python",
   "pygments_lexer": "ipython3",
   "version": "3.7.1"
  }
 },
 "nbformat": 4,
 "nbformat_minor": 2
}
