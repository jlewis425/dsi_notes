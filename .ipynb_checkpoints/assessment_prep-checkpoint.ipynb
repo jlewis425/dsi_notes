{
 "cells": [
  {
   "cell_type": "code",
   "execution_count": 2,
   "metadata": {},
   "outputs": [],
   "source": [
    "import math"
   ]
  },
  {
   "cell_type": "markdown",
   "metadata": {},
   "source": [
    "#### Prime Numbers"
   ]
  },
  {
   "cell_type": "code",
   "execution_count": 9,
   "metadata": {},
   "outputs": [
    {
     "name": "stdout",
     "output_type": "stream",
     "text": [
      "Please enter a number: 541\n",
      "The number you inputted is a prime number.\n"
     ]
    }
   ],
   "source": [
    "\n",
    "number = int(input('Please enter a number: '))\n",
    "factors =[]\n",
    "\n",
    "for num in range(1, number + 1):\n",
    "    if number % num == 0:\n",
    "        factors.append(num)\n",
    "      \n",
    "        \n",
    "if len(factors) == 2:\n",
    "    print('The number you inputted is a prime number.')\n",
    "else:\n",
    "    print('The number you inputted is not a prime number.')"
   ]
  },
  {
   "cell_type": "code",
   "execution_count": null,
   "metadata": {},
   "outputs": [],
   "source": []
  },
  {
   "cell_type": "code",
   "execution_count": 16,
   "metadata": {},
   "outputs": [
    {
     "name": "stdout",
     "output_type": "stream",
     "text": [
      "Please enter a string: YYuunnkklsop980'/.,=yyyyYzzZy\n",
      "Please enter a letter to count: y\n",
      "8\n"
     ]
    }
   ],
   "source": [
    "# First get the string\n",
    "txt = input('Please enter a string: ')\n",
    "# Then get the letter to count\n",
    "letter = input('Please enter a letter to count: ')\n",
    "\n",
    "txt = txt.lower()\n",
    "letter = letter.lower()\n",
    "\n",
    "counter = 0\n",
    "\n",
    "for let in txt:\n",
    "    if let == letter:\n",
    "        counter += 1\n",
    "        \n",
    "print(counter)"
   ]
  },
  {
   "cell_type": "code",
   "execution_count": null,
   "metadata": {},
   "outputs": [],
   "source": []
  },
  {
   "cell_type": "code",
   "execution_count": 22,
   "metadata": {},
   "outputs": [
    {
     "name": "stdout",
     "output_type": "stream",
     "text": [
      "Please enter a string: hello world\n",
      "hello world\n"
     ]
    }
   ],
   "source": [
    "# Get the string\n",
    "s = input('Please enter a string: ')\n",
    "\n",
    "s_upper = s.upper()\n",
    "s_lower = s.lower()\n",
    "\n",
    "if s[-1] == '!':\n",
    "    print(s_upper)\n",
    "else:\n",
    "    print(s_lower)\n",
    "    \n"
   ]
  },
  {
   "cell_type": "code",
   "execution_count": 18,
   "metadata": {},
   "outputs": [
    {
     "data": {
      "text/plain": [
       "'!'"
      ]
     },
     "execution_count": 18,
     "metadata": {},
     "output_type": "execute_result"
    }
   ],
   "source": [
    "s[-1]"
   ]
  },
  {
   "cell_type": "code",
   "execution_count": null,
   "metadata": {},
   "outputs": [],
   "source": []
  },
  {
   "cell_type": "code",
   "execution_count": 33,
   "metadata": {},
   "outputs": [
    {
     "name": "stdout",
     "output_type": "stream",
     "text": [
      "Please enter a string: Hello World\n",
      "Hll Wrld\n"
     ]
    }
   ],
   "source": [
    "# Get the string\n",
    "s = input('Please enter a string: ')\n",
    "\n",
    "vowels = ['a', 'e', 'i', 'o', 'u']\n",
    "\n",
    "\n",
    "for let in s.lower():\n",
    "    if let in vowels:\n",
    "        s = s.replace(let,'')\n",
    "        \n",
    "\n",
    "# Print your result here\n",
    "print(s)"
   ]
  },
  {
   "cell_type": "code",
   "execution_count": null,
   "metadata": {},
   "outputs": [],
   "source": []
  },
  {
   "cell_type": "code",
   "execution_count": 35,
   "metadata": {},
   "outputs": [
    {
     "name": "stdout",
     "output_type": "stream",
     "text": [
      "Please enter a number: 7\n",
      "[0, 2, 4, 6]\n"
     ]
    }
   ],
   "source": [
    "# An empty list\n",
    "l = []\n",
    "\n",
    "# Get the number\n",
    "n = int(input('Please enter a number: '))\n",
    "\n",
    "for num in range(0, n):\n",
    "    if num % 2 == 0:\n",
    "        l.append(num)\n",
    "\n",
    "# Print the result\n",
    "print(l)"
   ]
  },
  {
   "cell_type": "code",
   "execution_count": null,
   "metadata": {},
   "outputs": [],
   "source": []
  },
  {
   "cell_type": "code",
   "execution_count": 51,
   "metadata": {},
   "outputs": [
    {
     "name": "stdout",
     "output_type": "stream",
     "text": [
      "Please enter a number: 21\n",
      "Please enter a number to divide by: 4\n",
      "[0, 4, 8, 12, 16, 20]\n"
     ]
    }
   ],
   "source": [
    "# An empty list\n",
    "l = []\n",
    "\n",
    "# Get the numbers\n",
    "n1 = int(input('Please enter a number: '))\n",
    "n2 = int(input('Please enter a number to divide by: '))\n",
    "\n",
    "for num in range(0, n1+1):\n",
    "    if num % n2 == 0:\n",
    "        l.append(num)\n",
    "if n1 in l:\n",
    "    l.remove(n1)\n",
    "        \n",
    "# Print the result\n",
    "print(l)"
   ]
  },
  {
   "cell_type": "code",
   "execution_count": null,
   "metadata": {},
   "outputs": [],
   "source": []
  },
  {
   "cell_type": "code",
   "execution_count": 54,
   "metadata": {},
   "outputs": [
    {
     "name": "stdout",
     "output_type": "stream",
     "text": [
      "[6, 2]\n"
     ]
    }
   ],
   "source": [
    "l1 = [0, 3, 6, 9, 10, 2, 5]\n",
    "l2 = [2, 6, 4, 7, 8, 1, 15]\n",
    "\n",
    "common = []\n",
    "\n",
    "for num in l1:\n",
    "    if num in l2:\n",
    "        common.append(num)\n",
    "        \n",
    "\n",
    "print(common)"
   ]
  },
  {
   "cell_type": "code",
   "execution_count": null,
   "metadata": {},
   "outputs": [],
   "source": []
  },
  {
   "cell_type": "code",
   "execution_count": 61,
   "metadata": {},
   "outputs": [
    {
     "name": "stdout",
     "output_type": "stream",
     "text": [
      "club heart\n"
     ]
    }
   ],
   "source": [
    "suit_tup = ('diamond', 'club', 'spade', 'heart')\n",
    "print(suit_tup[1],suit_tup[3])"
   ]
  },
  {
   "cell_type": "code",
   "execution_count": null,
   "metadata": {},
   "outputs": [],
   "source": []
  },
  {
   "cell_type": "code",
   "execution_count": 73,
   "metadata": {},
   "outputs": [
    {
     "name": "stdout",
     "output_type": "stream",
     "text": [
      "Please enter a State: Idaho\n",
      "Capital not found!\n"
     ]
    }
   ],
   "source": [
    "state = input('Please enter a State: ')\n",
    "\n",
    "my_dct = {'Texas': 'Austin', 'Indiana': 'Indianapolis', 'Illinois': 'Chicago', 'New York': 'Albany'}\n",
    "\n",
    "\n",
    "if state in my_dct:\n",
    "    capital = my_dct[state]\n",
    "    print(capital)\n",
    "else:\n",
    "    print('Capital not found!')\n",
    "\n",
    "\n"
   ]
  },
  {
   "cell_type": "code",
   "execution_count": null,
   "metadata": {},
   "outputs": [],
   "source": []
  },
  {
   "cell_type": "code",
   "execution_count": 74,
   "metadata": {},
   "outputs": [
    {
     "name": "stdout",
     "output_type": "stream",
     "text": [
      "('Texas', 'Austin')\n",
      "('Indiana', 'Indianapolis')\n",
      "('Illinois', 'Chicago')\n",
      "('New York', 'Albany')\n"
     ]
    }
   ],
   "source": [
    "my_dct = {'Texas': 'Austin', 'Indiana': 'Indianapolis', 'Illinois': 'Chicago', 'New York': 'Albany'}\n",
    "for items in my_dct.items():\n",
    "    print(items)"
   ]
  },
  {
   "cell_type": "code",
   "execution_count": null,
   "metadata": {},
   "outputs": [],
   "source": []
  },
  {
   "cell_type": "code",
   "execution_count": 80,
   "metadata": {},
   "outputs": [
    {
     "name": "stdout",
     "output_type": "stream",
     "text": [
      "Sacramento\n",
      "Salt Lake City\n"
     ]
    }
   ],
   "source": [
    "my_dct = {'Texas': 'Austin', 'Indiana': 'Indianapolis', 'Illinois': 'Chicago',\n",
    "          'New York': 'Albany', 'Iowa': 'Des Moines',\n",
    "          'California': 'Sacramento', 'Utah': 'Salt Lake City',\n",
    "          'Ohio': 'Columbus'}\n",
    "for caps in my_dct.values():\n",
    "    if caps[0] == 'S':\n",
    "        print(caps)"
   ]
  },
  {
   "cell_type": "code",
   "execution_count": null,
   "metadata": {},
   "outputs": [],
   "source": []
  },
  {
   "cell_type": "code",
   "execution_count": 130,
   "metadata": {},
   "outputs": [
    {
     "name": "stdout",
     "output_type": "stream",
     "text": [
      "Please enter a series of numbers separated by commas. \n",
      " Hit enter when you are done. 1,2,3,4,5,6,7,8,9\n",
      "['5', '6', '7', '8']\n"
     ]
    },
    {
     "data": {
      "text/plain": [
       "[('1', '5'), ('2', '6'), ('3', '7'), ('4', '8')]"
      ]
     },
     "execution_count": 130,
     "metadata": {},
     "output_type": "execute_result"
    }
   ],
   "source": [
    "nums = input('''Please enter a series of numbers separated by commas. \\n Hit enter when you are done. ''')\n",
    "# convert string into clean list of integers\n",
    "n_list=[]\n",
    "\n",
    "for char in nums:\n",
    "    if char.isdigit() == True:\n",
    "        n_list.append(char)\n",
    "        \n",
    "# check length of list for even n\n",
    "\n",
    "if len(n_list) % 2 != 0:\n",
    "    del n_list[-1]\n",
    "\n",
    "split = int(len(n_list)/2)\n",
    "\n",
    "l1 = n_list[0:(split)]\n",
    "l2 = n_list[split:]\n",
    "\n",
    "print(l2)\n",
    "\n",
    "list(zip(l1,l2))"
   ]
  },
  {
   "cell_type": "markdown",
   "metadata": {},
   "source": [
    "## "
   ]
  },
  {
   "cell_type": "code",
   "execution_count": 101,
   "metadata": {},
   "outputs": [
    {
     "name": "stdout",
     "output_type": "stream",
     "text": [
      "7Q5H9438L\n"
     ]
    }
   ],
   "source": [
    "answer = ('7', 'Q', '5', 'H', '9', '4', '3', '8', 'L')\n",
    "ans = ''.join(answer)\n",
    "print(ans)"
   ]
  },
  {
   "cell_type": "code",
   "execution_count": null,
   "metadata": {},
   "outputs": [],
   "source": []
  },
  {
   "cell_type": "code",
   "execution_count": null,
   "metadata": {},
   "outputs": [],
   "source": []
  },
  {
   "cell_type": "code",
   "execution_count": null,
   "metadata": {},
   "outputs": [],
   "source": []
  },
  {
   "cell_type": "code",
   "execution_count": null,
   "metadata": {},
   "outputs": [],
   "source": []
  }
 ],
 "metadata": {
  "kernelspec": {
   "display_name": "Python 3",
   "language": "python",
   "name": "python3"
  },
  "language_info": {
   "codemirror_mode": {
    "name": "ipython",
    "version": 3
   },
   "file_extension": ".py",
   "mimetype": "text/x-python",
   "name": "python",
   "nbconvert_exporter": "python",
   "pygments_lexer": "ipython3",
   "version": "3.7.1"
  }
 },
 "nbformat": 4,
 "nbformat_minor": 2
}
