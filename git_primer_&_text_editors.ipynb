{
 "cells": [
  {
   "cell_type": "markdown",
   "metadata": {},
   "source": [
    "# Git Basics\n",
    "\n",
    "\n",
    "***\n",
    "**Git and Github at NOT THE SAME THING!**\n",
    "* Git - bulit-in version control\n",
    "* GitHub - collaboration platform/hosting service for projects that use Git\n",
    "***\n",
    "\n",
    "#### Definitions:\n",
    "****\n",
    "**Version Control** - can store snapshots of everything in a directory\n",
    "\n",
    "**Distributed** - multiple versions can be stored in multiple places and kept in sync\n",
    "\n",
    "**Repository** - stores current and previous versions of files\n",
    "\n",
    "**Commit** - takes a snapshot of the repository at a point in time\n",
    "\n",
    "**Clone** - get a *copy* of the entire history of the repository\n",
    "****\n",
    "\n",
    "#### Example Workflow:\n",
    "1. Fork a repository - makes a copy on GitHub\n",
    "2. Clone the repository - adds the repo to the local machine\n",
    "3. Make changes to code / files\n",
    "4. Make commits - stores a snapshot of code at that version\n",
    "5. Push changes to GitHub\n",
    "\n",
    "\n"
   ]
  },
  {
   "cell_type": "markdown",
   "metadata": {},
   "source": [
    "## Workflow for Galvanize Assignments\n",
    "\n",
    "* Fork a repo by clicking **Fork** on GitHub\n",
    "* Copy the URL and clone the repo from the command line:\n",
    "            git clone <url>\n",
    "* **Change directories at the command line into the repo**:\n",
    "            cd <repo_path/name>\n",
    "* Open files in text editor/IDE and make changes\n",
    "* Add changes at the command line:\n",
    "            git add -A\n",
    "* Commit changes at the command line, along with a text string message:\n",
    "            git commit -m \"meaningful comment\"\n",
    "* Check status of local repo:\n",
    "            git status\n",
    "* Push changes from the command line with:\n",
    "            git push origin master\n",
    "* Copy URL of your fork and paste into the appropriate place in Learn\n",
    "    "
   ]
  },
  {
   "cell_type": "markdown",
   "metadata": {},
   "source": [
    "#### REMINDER\n",
    "`git status` is your friend - use it early and often"
   ]
  },
  {
   "cell_type": "markdown",
   "metadata": {},
   "source": [
    "************************************************************************\n",
    "\n",
    "# In-Terminal Text Editors\n",
    "\n",
    "## vim\n",
    "\n",
    "`vim`  --> launches vim from the terminal\n",
    "\n",
    "`i`    --> toggles to **insert** mode\n",
    "\n",
    "`ESC`  --> toggles to **command** mode\n",
    "\n",
    "#### While in command mode:\n",
    "\n",
    "`:w <filename.txt>`   --> to write text on screen to a new file\n",
    "\n",
    "`:w`   --> saves changes (literally: write)\n",
    "\n",
    "`:q`   --> quit (quit is not allowed without saving or discarding text)\n",
    "\n",
    "`:wq`  --> save (write) and quit\n",
    "\n",
    "`:q!`  --> quit and discard unsaved changes\n",
    "\n",
    "\n",
    "## nano\n",
    "\n",
    "`nano` --> launch nano from terminal\n",
    "\n",
    "`nano path/to/filename.txt`   --> opens existing file in nano from terminal\n",
    "\n",
    "Commands in nano are shown at the bottom of the screen, for Help (Get help): **^G** (`CTRL-G`)\n",
    "\n"
   ]
  }
 ],
 "metadata": {
  "kernelspec": {
   "display_name": "Python 3",
   "language": "python",
   "name": "python3"
  },
  "language_info": {
   "codemirror_mode": {
    "name": "ipython",
    "version": 3
   },
   "file_extension": ".py",
   "mimetype": "text/x-python",
   "name": "python",
   "nbconvert_exporter": "python",
   "pygments_lexer": "ipython3",
   "version": "3.7.1"
  }
 },
 "nbformat": 4,
 "nbformat_minor": 2
}
